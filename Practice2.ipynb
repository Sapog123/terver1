{
  "nbformat": 4,
  "nbformat_minor": 0,
  "metadata": {
    "kernelspec": {
      "display_name": "Python 3",
      "language": "python",
      "name": "python3"
    },
    "language_info": {
      "codemirror_mode": {
        "name": "ipython",
        "version": 3
      },
      "file_extension": ".py",
      "mimetype": "text/x-python",
      "name": "python",
      "nbconvert_exporter": "python",
      "pygments_lexer": "ipython3",
      "version": "3.7.3"
    },
    "colab": {
      "name": "Practice2.ipynb",
      "provenance": [],
      "include_colab_link": true
    }
  },
  "cells": [
    {
      "cell_type": "markdown",
      "metadata": {
        "id": "view-in-github",
        "colab_type": "text"
      },
      "source": [
        "<a href=\"https://colab.research.google.com/github/Sapog123/terver1/blob/main/Practice2.ipynb\" target=\"_parent\"><img src=\"https://colab.research.google.com/assets/colab-badge.svg\" alt=\"Open In Colab\"/></a>"
      ]
    },
    {
      "cell_type": "markdown",
      "metadata": {
        "id": "kVta3qAKgieS"
      },
      "source": [
        "# Практика 2. Схема Бернулли. Теорема Пуассона."
      ]
    },
    {
      "cell_type": "markdown",
      "metadata": {
        "id": "lFbLgRb_gieX"
      },
      "source": [
        "## Мотивация\n",
        "[Пуассон в футбольных ставках](https://habr.com/en/post/318150/)"
      ]
    },
    {
      "cell_type": "markdown",
      "metadata": {
        "id": "4GVp7-yMgieZ"
      },
      "source": [
        "## Видеоматериалы\n",
        "[Схема Бернулли](https://stepik.org/lesson/48665/step/1)\n",
        "\n",
        "[Теорема Пуассона](https://stepik.org/lesson/48671/step/1)"
      ]
    },
    {
      "cell_type": "markdown",
      "metadata": {
        "id": "hprqL-DkgieZ"
      },
      "source": [
        "## Теория\n",
        "[Схема Бернулли](https://nsu.ru/mmf/tvims/chernova/tv/lec/node17.html)\n",
        "\n",
        "[Теорема Пуассона](https://nsu.ru/mmf/tvims/chernova/tv/lec/node21.html)"
      ]
    },
    {
      "cell_type": "markdown",
      "metadata": {
        "id": "CguNY-yrgieZ"
      },
      "source": [
        "## Основные формулы\n",
        "\n",
        "Геометрическое распределение\n",
        "$$P(k)= p(1-p)^k$$\n",
        "\n",
        "Биноминальное распределение\n",
        "$$P_n(k) = C_n^kp^k(1-p)^{n-k}$$\n",
        "\n",
        "Распределение Пуассона\n",
        "$$P(k) = \\frac{\\lambda^{k}e^{-\\lambda}}{k!}$$\n"
      ]
    },
    {
      "cell_type": "markdown",
      "metadata": {
        "id": "GM4RvM8Wgiea"
      },
      "source": [
        "Формула стирлинга:\n",
        "$$n! \\sim \\sqrt{2\\pi n}\\Big(\\frac{n}{e}\\Big)^{n}$$\n"
      ]
    },
    {
      "cell_type": "code",
      "metadata": {
        "id": "49udl646giea"
      },
      "source": [
        "from scipy.stats import bernoulli, binom, geom, poisson\n",
        "import matplotlib.pyplot as plt\n",
        "import numpy as np"
      ],
      "execution_count": null,
      "outputs": []
    },
    {
      "cell_type": "code",
      "metadata": {
        "id": "VyVKVUJUgieb",
        "outputId": "ee9fdea1-a010-43e1-cfe8-899123c8e7d3"
      },
      "source": [
        "n, p = 100, 0.4\n",
        "x = np.arange(binom.ppf(0.01, n, p), binom.ppf(0.99, n, p))\n",
        "\n",
        "fig, ax = plt.subplots(1, 1)\n",
        "ax.plot(x, binom.pmf(x, n, p), 'bo', ms=8, label='binom pmf')\n",
        "ax.legend(loc='best', frameon=False)\n",
        "plt.grid()\n",
        "plt.show()"
      ],
      "execution_count": null,
      "outputs": [
        {
          "output_type": "display_data",
          "data": {
            "image/png": "[encoded data removed]",
            "text/plain": [
              "<Figure size 432x288 with 1 Axes>"
            ]
          },
          "metadata": {
            "tags": [],
            "needs_background": "light"
          }
        }
      ]
    },
    {
      "cell_type": "code",
      "metadata": {
        "id": "6WRsdDd_giec",
        "outputId": "3421fd59-1292-4667-9771-614643d42822"
      },
      "source": [
        "p = 0.2\n",
        "x = np.arange(geom.ppf(0.01, p), geom.ppf(0.99, p))\n",
        "\n",
        "fig, ax = plt.subplots(1, 1)\n",
        "ax.plot(x, geom.pmf(x, p), 'bo-', ms=8, label='geom pmf')\n",
        "ax.legend(loc='best', frameon=False)\n",
        "plt.grid()\n",
        "plt.show()"
      ],
      "execution_count": null,
      "outputs": [
        {
          "output_type": "display_data",
          "data": {
            "image/png": "[encoded data removed]",
            "text/plain": [
              "<Figure size 432x288 with 1 Axes>"
            ]
          },
          "metadata": {
            "tags": [],
            "needs_background": "light"
          }
        }
      ]
    },
    {
      "cell_type": "code",
      "metadata": {
        "id": "WD8g1YaBgiec",
        "outputId": "2ba9deb2-f384-480e-b2fd-ec8997d194a4"
      },
      "source": [
        "lamb5 = 5\n",
        "x5 = np.arange(poisson.ppf(0, lamb5), poisson.ppf(0.999999, lamb5))\n",
        "lamb7 = 7\n",
        "x7 = np.arange(poisson.ppf(0, lamb7), poisson.ppf(0.999999, lamb7))\n",
        "\n",
        "fig, ax = plt.subplots(1, 1)\n",
        "ax.plot(x5, poisson.pmf(x5, lamb5), 'bo-', ms=8, label='lambda=5')\n",
        "ax.plot(x7, poisson.pmf(x7, lamb7), 'bo-', ms=8, color='red', label='lambda=7')\n",
        "ax.legend(loc='best', frameon=False)\n",
        "plt.grid()\n",
        "plt.show()"
      ],
      "execution_count": null,
      "outputs": [
        {
          "output_type": "display_data",
          "data": {
            "image/png": "[encoded data removed]",
            "text/plain": [
              "<Figure size 432x288 with 1 Axes>"
            ]
          },
          "metadata": {
            "tags": [],
            "needs_background": "light"
          }
        }
      ]
    },
    {
      "cell_type": "markdown",
      "metadata": {
        "id": "uSuwpPzNgiec"
      },
      "source": [
        "## Задачи на пару"
      ]
    },
    {
      "cell_type": "markdown",
      "metadata": {
        "id": "w9df5ei_gied"
      },
      "source": [
        "**1.**\n",
        "В урне находится m шаров, из которых $m_1$ белых и $m_2$ черных $(m 1 + m 2 = m)$. Производится $n$ извлечений одного шара с возвращением его (после определения его цвета) обратно в урну. Найдите вероятность того, что ровно r раз из n будет извлечен белый шар."
      ]
    },
    {
      "cell_type": "markdown",
      "metadata": {
        "id": "J_QknYaZgied"
      },
      "source": [
        "**2.** Вероятность отказа каждого прибора при испытании равна 0,2. Сколько таких приборов нужно испытать, чтобы с вероятностью не менее 0,9 получить не меньше трех отказов?"
      ]
    },
    {
      "cell_type": "markdown",
      "metadata": {
        "id": "Uzbx5ldtgied"
      },
      "source": [
        "**3.** Определить вероятность получения не менее 28 очков при трех независимых выстрелах из спортивного пистолета по мишени с максимальным числом очков, равным 10, если вероятность получения 30 очков равна 0,008. Известно, что при одном выстреле вероятность получения восьми очков равна 0,15, а менее восьми очков -- 0,4."
      ]
    },
    {
      "cell_type": "markdown",
      "metadata": {
        "id": "h72Rw3Gbgied"
      },
      "source": [
        "**3.** Доказать теорему Пуассона: \n",
        "Eсли\n",
        "* $\\lim_{n \\to \\infty}p_n = 0$\n",
        "* $\\lim_{n\\to \\infty}np_n = \\lambda$\n",
        "* $\\lambda > 0$\n",
        "* k - константа\n",
        "то\n",
        "$$\\lim_{n \\to \\infty}C_n^{k}p_n^k q_n^{n-k} = \\frac{\\lambda^{k}e^{-\\lambda}}{k!}$$"
      ]
    },
    {
      "cell_type": "markdown",
      "metadata": {
        "id": "sRXwrvu_gied"
      },
      "source": [
        "**4.** Среди семян пшеницы 0.6% семян сорняков. Какова вероятность при случайном отборе 1000 семян обнаружить \n",
        "* 0 семян сорняков\n",
        "* ровно 6 семян сорняков\n",
        "* меньше 3 семян сорняков\n",
        "* больше 2 семян сорняков"
      ]
    },
    {
      "cell_type": "markdown",
      "metadata": {
        "id": "5w2TA2ORgiee"
      },
      "source": [
        "## ДЗ"
      ]
    },
    {
      "cell_type": "markdown",
      "metadata": {
        "id": "bV5m0vA-giee"
      },
      "source": [
        "**1.** (Задача Стефана Банаха) В двух спичечных коробках имеется по n спичек. На каждом шаге наугад выбирается коробок, и из него удаляется (используется) одна спичка. Найдите вероятность того, что в момент, когда один из коробков опустеет, в другом останется k спичек."
      ]
    },
    {
      "cell_type": "markdown",
      "metadata": {
        "id": "tSack6tHgiee"
      },
      "source": [
        "**2.** Вероятность попадания в цель при одном выстреле равна 0,001. Для поражения цели необходимо не менее двух попаданий. Произведено 5000 выстрелов. Найти вероятность поражения цели"
      ]
    },
    {
      "cell_type": "markdown",
      "metadata": {
        "id": "rBfc5hItgiee"
      },
      "source": [
        "**3** Квантовый вычислитель  выходит из строя, если перегреваются не менее пяти кубитов I типа или не менее двух кубитов II типа. Определить вероятность выхода из строя вычислителя, если известно, что  перегрелось пять кубитов, причем кубиты перегреваются независимо один от другого. Каждый перегревшийся кубит с вероятностью 0,7 является кубитом первого типа и с вероятностью 0,3 -- второго типа."
      ]
    },
    {
      "cell_type": "markdown",
      "metadata": {
        "id": "9K28xBxLgiee"
      },
      "source": [
        "**3.** Некоторая машина состоит из 10 тысяч деталей. Каждая деталь независимо от других деталей может оказаться неисправной с вероятностью $p_i$, причём \n",
        "* для $n_1 = 1000$ деталей $p_1 = 0,0003$\n",
        "* для $n_2 = 2000$ деталей $p_2 = 0,0002$\n",
        "* для $n_3 = 7000$ деталей $p_3 = 0,0001$\n",
        "\n",
        "Машина не работает, если в ней неисправны хотя бы две детали. Найти вероятность того, что машина не будет работать."
      ]
    },
    {
      "cell_type": "markdown",
      "metadata": {
        "id": "-KITylUDgief"
      },
      "source": [
        "## Гробы"
      ]
    },
    {
      "cell_type": "markdown",
      "metadata": {
        "id": "pF2D0zX3gief"
      },
      "source": [
        "**1. (1.5 балла)(потрачено)** В корзине лежит n шариков. В ходе эксперимента с равными вероятностями вытаскивают шарики из корзины и кладут обратно. Эксперимент заканчивается, когда один из шариков достали k раз. Определить вероятность того, что для этого придется производить $m < 2k$ вытаскиваний."
      ]
    },
    {
      "cell_type": "markdown",
      "metadata": {
        "id": "aCNH9Jp_gief"
      },
      "source": [
        "**2. (2 балла)(1 человек)** Пусть $N$ -- размер некоторой популяции, который требуется оценить ``минимальными средствами`` без простого пересчета всех элементов этой совокупности. Подобного рода вопрос интересен, например, при оценке числа жителей в той или иной стране, городе и т. д. В 1786 г. Лаплас для оценки числа $N$ жителей во Франции предложил следующий метод. Выберем некоторое число, скажем, $M$, элементов популяции и пометим их. Затем возвратим их в основную совокупность и предположим, что они ``хорошо перемешаны`` с немаркированными элементами. После этого возьмем из ``перемешанной`` популяции $n$ элементов. Обозначим через $X$ число маркированных элементов (в этой выборке из $n$ элементов).\n",
        "* Показать, что вероятность $P_{N,M,n}\\{X = m\\}$ того, что $X=m$ задается (при фиксированных $N,M,n$) формулой гипергеометрического распределения $$P_{N,M,n}\\{X = m\\}=\\frac{C_{M}^mC_{N-M}^{n-m}}{C_N^n}. $$\n",
        "* Считая $M$, $n$ и $m$ заданными, найти максимум $P_{N,M,n}\\{X = m\\}$ по $N$, т. е. ``наиболее правдоподобный`` объем всей популяции, приводящий к тому, что число маркированных элементов оказалось равным $m$. Показать, что так найденное наиболее правдоподобное значение $N$ (называемое оценкой максимального правдоподобия) определяется формулой $$\\widehat{N}=\\left[\\frac{Mn}{m}\\right],$$ где $[\\cdot]$ -- целая часть."
      ]
    }
  ]
}